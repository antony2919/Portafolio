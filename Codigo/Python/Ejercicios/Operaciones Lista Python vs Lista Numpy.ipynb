{
 "cells": [
  {
   "cell_type": "markdown",
   "metadata": {},
   "source": [
    "## Operaciones con Listas Python vs Lista en Numpy\n"
   ]
  },
  {
   "cell_type": "markdown",
   "metadata": {},
   "source": [
    "#### Operacion Suma Listas Python "
   ]
  },
  {
   "cell_type": "code",
   "execution_count": 19,
   "metadata": {},
   "outputs": [
    {
     "name": "stdout",
     "output_type": "stream",
     "text": [
      "[1, 2, 3]\n",
      "El tipo de datos es  <class 'list'>\n"
     ]
    }
   ],
   "source": [
    "list1 = [1,2,3] #Definimos una variable de nombre list y asignamos una coleccion de valores\n",
    "print(list1)\n",
    "print(\"El tipo de datos es:  {0}\".format(type(list1)))# Imprimimos el tipo de dato de la variable list con la funcion type"
   ]
  },
  {
   "cell_type": "code",
   "execution_count": 15,
   "metadata": {},
   "outputs": [
    {
     "name": "stdout",
     "output_type": "stream",
     "text": [
      "[4, 5, 6]\n",
      "El tipo de datos es  <class 'list'>\n"
     ]
    }
   ],
   "source": [
    "list2 = [4,5,6] #Definimos una variable de nombre list2 y asignamos una coleccion de valores\n",
    "print(list2)\n",
    "print(\"El tipo de datos es:  {0}\".format(type(list2)))"
   ]
  },
  {
   "cell_type": "code",
   "execution_count": 14,
   "metadata": {},
   "outputs": [
    {
     "name": "stdout",
     "output_type": "stream",
     "text": [
      "[1, 2, 3, 4, 5, 6]\n"
     ]
    }
   ],
   "source": [
    "listsuma= list1 + list2 #Realizamos la operacion suma entre 2 listas\n",
    "print(listsuma) #El resultado nos da la concatenación de los elementos de las 2 listas"
   ]
  },
  {
   "cell_type": "markdown",
   "metadata": {},
   "source": [
    "#### Operacion Suma Listas con Libreria Numpy "
   ]
  },
  {
   "cell_type": "markdown",
   "metadata": {},
   "source": [
    "Con la librería Numpy podemos hacer operaciones con matrices unidimensionales(listas), 2 dimensiones, etc.  \n",
    "Es más óptimo y rápido que las listas de Python, el comportamiento de las operaciones son distintas a las listas de Python."
   ]
  },
  {
   "cell_type": "code",
   "execution_count": 20,
   "metadata": {},
   "outputs": [
    {
     "name": "stdout",
     "output_type": "stream",
     "text": [
      "[1 2 3]\n",
      "El tipo de datos es  <class 'numpy.ndarray'>\n"
     ]
    }
   ],
   "source": [
    "import numpy as np #Importamos la libreria numpy \n",
    "list1= np.array([1,2,3]) #Definimos una lista numpy\n",
    "print(list1)\n",
    "print(\"El tipo de datos es:  {0}\".format(type(list1)))# Imprimimos el tipo de dato de la variable list con la funcion type\n",
    "#Observamos que el tipo de datos es numpy.ndarray , ndarray hace referencia a multidimensional"
   ]
  },
  {
   "cell_type": "code",
   "execution_count": 22,
   "metadata": {},
   "outputs": [
    {
     "name": "stdout",
     "output_type": "stream",
     "text": [
      "[4 5 6]\n",
      "El tipo de datos es  <class 'numpy.ndarray'>\n"
     ]
    }
   ],
   "source": [
    "list2= np.array([4,5,6]) #Definimos una lista numpy\n",
    "print(list2)\n",
    "print(\"El tipo de datos es  {0}\".format(type(list2)))"
   ]
  },
  {
   "cell_type": "code",
   "execution_count": 24,
   "metadata": {},
   "outputs": [
    {
     "name": "stdout",
     "output_type": "stream",
     "text": [
      "[5 7 9]\n",
      "El tipo de datos es  <class 'numpy.ndarray'>\n"
     ]
    }
   ],
   "source": [
    "listsuma= list1 + list2\n",
    "print(list1 + list2)\n",
    "print(\"El tipo de datos es  {0}\".format(type(listsuma)))"
   ]
  },
  {
   "cell_type": "markdown",
   "metadata": {},
   "source": [
    "Vemos que la operacion suma es distinta a la lista de Python, esta forma de trabajar de Numpy esta orientado a que las operaciones sean las mismas que las matemáticas de matrices."
   ]
  }
 ],
 "metadata": {
  "kernelspec": {
   "display_name": "Python 3",
   "language": "python",
   "name": "python3"
  },
  "language_info": {
   "codemirror_mode": {
    "name": "ipython",
    "version": 3
   },
   "file_extension": ".py",
   "mimetype": "text/x-python",
   "name": "python",
   "nbconvert_exporter": "python",
   "pygments_lexer": "ipython3",
   "version": "3.8.3"
  }
 },
 "nbformat": 4,
 "nbformat_minor": 4
}
